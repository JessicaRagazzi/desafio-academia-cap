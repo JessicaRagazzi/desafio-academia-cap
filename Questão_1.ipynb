{
  "nbformat": 4,
  "nbformat_minor": 0,
  "metadata": {
    "colab": {
      "name": "Questão 1.ipynb",
      "provenance": [],
      "authorship_tag": "ABX9TyPRvQ2iYFFhB8+Qm6zujKd3",
      "include_colab_link": true
    },
    "kernelspec": {
      "name": "python3",
      "display_name": "Python 3"
    },
    "language_info": {
      "name": "python"
    }
  },
  "cells": [
    {
      "cell_type": "markdown",
      "metadata": {
        "id": "view-in-github",
        "colab_type": "text"
      },
      "source": [
        "<a href=\"https://colab.research.google.com/github/JessicaRagazzi/desafio-academia-cap/blob/main/Quest%C3%A3o_1.ipynb\" target=\"_parent\"><img src=\"https://colab.research.google.com/assets/colab-badge.svg\" alt=\"Open In Colab\"/></a>"
      ]
    },
    {
      "cell_type": "markdown",
      "source": [
        "# Questão 1"
      ],
      "metadata": {
        "id": "LGMmzolFeXZ6"
      }
    },
    {
      "cell_type": "code",
      "execution_count": 262,
      "metadata": {
        "colab": {
          "base_uri": "https://localhost:8080/"
        },
        "id": "3QJg8kOebnR-",
        "outputId": "26493f22-7f15-4184-8cd5-b12875d74145"
      },
      "outputs": [
        {
          "output_type": "stream",
          "name": "stdout",
          "text": [
            "Número selecionado: 28\n",
            "                           *\n",
            "                          **\n",
            "                         ***\n",
            "                        ****\n",
            "                       *****\n",
            "                      ******\n",
            "                     *******\n",
            "                    ********\n",
            "                   *********\n",
            "                  **********\n",
            "                 ***********\n",
            "                ************\n",
            "               *************\n",
            "              **************\n",
            "             ***************\n",
            "            ****************\n",
            "           *****************\n",
            "          ******************\n",
            "         *******************\n",
            "        ********************\n",
            "       *********************\n",
            "      **********************\n",
            "     ***********************\n",
            "    ************************\n",
            "   *************************\n",
            "  **************************\n",
            " ***************************\n",
            "****************************\n"
          ]
        }
      ],
      "source": [
        "#Para importar a biblioteca random, padrão do Phyton:\n",
        "import random\n",
        "\n",
        "#Atribui a i o valor 0\n",
        "i = 0\n",
        "\n",
        "#Variável número recebe um número inteiro gerado aleatoriamente, de acordo com a biblioteca random. \n",
        "#Valor de randint foi determinado entre 1-100. Esse valor pode ser alterado. \n",
        "numero = int (random.randint(1,100))\n",
        "\n",
        "#Imprime o valor randômico importado. \n",
        "print ('Número selecionado:', numero)\n",
        "\n",
        "#Executa uma sequência para cada elemento que está sendo interado de acordo com o valor randômico gerado anteriormente.\n",
        "for i in range (numero + i):\n",
        "  #Gera o espaço, decrementando o valor de número a cada repetição.\n",
        "  espaco = (numero - (1 + i))\n",
        "\n",
        "  #Imprime o espaco e o símbolo \"*\" X vezes, de acordo com o valor randômico gerado. \n",
        "  print (' ' * espaco + '*' * (1 + i))"
      ]
    },
    {
      "cell_type": "code",
      "source": [
        ""
      ],
      "metadata": {
        "id": "N7N9018jn4RC"
      },
      "execution_count": null,
      "outputs": []
    }
  ]
}