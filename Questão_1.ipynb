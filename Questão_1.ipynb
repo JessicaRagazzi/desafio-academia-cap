{
  "nbformat": 4,
  "nbformat_minor": 0,
  "metadata": {
    "colab": {
      "name": "Questão 1.ipynb",
      "provenance": [],
      "authorship_tag": "ABX9TyPxwgxjp31xvUfCXwQErHgY",
      "include_colab_link": true
    },
    "kernelspec": {
      "name": "python3",
      "display_name": "Python 3"
    },
    "language_info": {
      "name": "python"
    }
  },
  "cells": [
    {
      "cell_type": "markdown",
      "metadata": {
        "id": "view-in-github",
        "colab_type": "text"
      },
      "source": [
        "<a href=\"https://colab.research.google.com/github/JessicaRagazzi/desafio-academia-cap/blob/main/Quest%C3%A3o_1.ipynb\" target=\"_parent\"><img src=\"https://colab.research.google.com/assets/colab-badge.svg\" alt=\"Open In Colab\"/></a>"
      ]
    },
    {
      "cell_type": "markdown",
      "source": [
        "# Questão 1"
      ],
      "metadata": {
        "id": "LGMmzolFeXZ6"
      }
    },
    {
      "cell_type": "code",
      "execution_count": 62,
      "metadata": {
        "colab": {
          "base_uri": "https://localhost:8080/"
        },
        "id": "3QJg8kOebnR-",
        "outputId": "194e86b7-dbcb-4f7b-9c39-4156d4fc59a2"
      },
      "outputs": [
        {
          "output_type": "stream",
          "name": "stdout",
          "text": [
            "Número selecionado: 16\n",
            "               *\n",
            "              **\n",
            "             ***\n",
            "            ****\n",
            "           *****\n",
            "          ******\n",
            "         *******\n",
            "        ********\n",
            "       *********\n",
            "      **********\n",
            "     ***********\n",
            "    ************\n",
            "   *************\n",
            "  **************\n",
            " ***************\n",
            "****************\n"
          ]
        }
      ],
      "source": [
        "#Para importar a biblioteca random, padrão do Phyton:\n",
        "import random\n",
        "\n",
        "#Atribui a i o valor 0\n",
        "i = 0\n",
        "\n",
        "#Variável número recebe um número inteiro gerado aleatoriamente, de acordo com a biblioteca random. \n",
        "#Valor de randint foi determinado entre 1-100. Esse valor pode ser alterado. \n",
        "numero = int (random.randint(1,100))\n",
        "\n",
        "#Imprime o valor randômico importado. \n",
        "print ('Número selecionado:', numero)\n",
        "\n",
        "#Executa uma sequência para cada elemento que está sendo interado de acordo com o valor randômico gerado anteriormente.\n",
        "for i in range (numero + i):\n",
        "  #Gera o espaço, decrementando o valor de número a cada repetição.\n",
        "  espaco = (numero - (1 + i))\n",
        "\n",
        "  #Imprime o espaco e o símbolo \"*\" X vezes, de acordo com o valor randômico gerado. \n",
        "  print (' ' * espaco + '*' * (1 + i))"
      ]
    },
    {
      "cell_type": "code",
      "source": [
        ""
      ],
      "metadata": {
        "id": "N7N9018jn4RC"
      },
      "execution_count": null,
      "outputs": []
    },
    {
      "cell_type": "markdown",
      "source": [
        "# Questão 2"
      ],
      "metadata": {
        "id": "nrPp97gteSrC"
      }
    },
    {
      "cell_type": "code",
      "source": [
        "#Estabelece o mínimo de 6 caracteres \n",
        "valorMin = 6 \n",
        "\n",
        "#Importa bibliotecas random e string\n",
        "from random import choice\n",
        "import string\n",
        "\n",
        "string.ascii_letters #Importa os caracteres: abcdefghijklmnopqrstuvwxyzABCDEFGHIJKLMNOPQRSTUVWXYZ\n",
        "string.digits #Importa os caracteres: 0123456789\n",
        "string.punctuation #Importa os caracteres: !@#$%^&*()-+\n",
        "\n",
        "#Seleciona um número aleatório, em um intervalo de 1 - 10. Esse intervalo pode ser alterado. \n",
        "tamanhoSenha = int (random.randint(1,10))\n",
        "\n",
        "#Definir, na variavel caracteres, a combinação entre caracteres maiúsculos, minúsculos e especiais\n",
        "caracteres = string.ascii_letters + string.digits + string.punctuation\n",
        "senha = '' \n",
        "#Os caracteres aleatórios são selecionados, dentro da quantidade de caracteres delimitada pela variável \"tamanhoSenha\"\n",
        "for i in range(tamanhoSenha):\n",
        "  senha += choice(caracteres) #Recebe a senha gerada \n",
        "\n",
        "senhaCerta = int(len(senha))\n",
        "senhaCerta = int(senhaCerta) #Conversão de str para int \n",
        "\n",
        "print ('Senha gerada: ', senha) #Exibe ao usuário a senha gerada \n",
        "\n",
        "if senhaCerta >= valorMin: #Se a senha tiver mais de 6 caracteres\n",
        "  print ('Sua senha é segura!')\n",
        "\n",
        "adicionar = (valorMin - senhaCerta)\n",
        "\n",
        "if adicionar == 1: #Se a senha tiver somente 1 caracter\n",
        "  print ('Você precisa adicionar mais', adicionar, 'caracter')\n",
        "\n",
        "if senhaCerta <= 4: #Se a senha tiver menos de 4 caracteres\n",
        "   print ('Você precisa adicionar mais', adicionar, 'caracteres')"
      ],
      "metadata": {
        "colab": {
          "base_uri": "https://localhost:8080/"
        },
        "id": "Fv-T1f0123Yn",
        "outputId": "b9f97372-bbed-471e-ad2c-d38a8ce59ad5"
      },
      "execution_count": 110,
      "outputs": [
        {
          "output_type": "stream",
          "name": "stdout",
          "text": [
            "Senha gerada:  ZC4?\n",
            "Você precisa adicionar mais 2 caracteres\n"
          ]
        }
      ]
    },
    {
      "cell_type": "markdown",
      "source": [
        "# Questão 3"
      ],
      "metadata": {
        "id": "wPSrQRU9o273"
      }
    },
    {
      "cell_type": "code",
      "source": [
        "#Importa bibliotecas random e string\n",
        "from random import choice\n",
        "import string\n",
        "\n",
        "string.ascii_lowercase #Importa os caracteres: abcdefghijklmnopqrstuvwxyz\n",
        " \n",
        "tamanhoPalavra = int (random.randint(1,10)) #Estabelece um tamanho para a palavra que será gerada\n",
        "\n",
        "caracteres = string.ascii_lowercase #Armazena os caracteres em uma variável\n",
        "#Os caracteres aleatórios são selecionados, dentro da quantidade de caracteres delimitada pela variável \"tamanhoPalavra\"\n",
        "palavra = ''\n",
        "\n",
        "for i in range(tamanhoPalavra): \n",
        "  palavra += choice(caracteres) #Recebe a palavra gerada \n",
        "\n",
        "print ('Palavra gerada: ', palavra) #Informa qual a palavra gerada\n",
        "\n",
        "anagramas = [] #Armazena na variável a lista para os anagramas possíveis \n",
        "\n",
        "#Sequência que analisa cada combinação com os caracteres recebidos e cria uma lista\n",
        "for i in range(len(palavra)):\n",
        "  combinacoes = palavra[i]\n",
        "  for y in range(i, len(palavra)):\n",
        "    if y == i:\n",
        "      combinacoes = combinacoes\n",
        "    else:\n",
        "      combinacoes += palavra[y]\n",
        "    anagramas += [''.join(sorted(combinacoes))]\n",
        "  \n",
        "#Compara as combinações e soma as combinações iguais \n",
        "contAnagramas = 0\n",
        "for i in range(len(anagramas)):\n",
        "  for y in range(i + 1, len(anagramas)):\n",
        "    if anagramas [y] == anagramas[i]:\n",
        "      contAnagramas +=(1)\n",
        "\n",
        "#Armazena o contador de anagramas para imprimir o resultado final\n",
        "totalAnagramas = contAnagramas\n",
        "\n",
        "print('Quantidade de Anagramas: ', totalAnagramas)"
      ],
      "metadata": {
        "colab": {
          "base_uri": "https://localhost:8080/"
        },
        "id": "PyRBfKiGKYX6",
        "outputId": "18291fb4-5f23-41ee-d35b-211ff1796545"
      },
      "execution_count": 261,
      "outputs": [
        {
          "output_type": "stream",
          "name": "stdout",
          "text": [
            "Palavra gerada:  jzwsvoom\n",
            "Quantidade de Anagramas:  1\n"
          ]
        }
      ]
    }
  ]
}