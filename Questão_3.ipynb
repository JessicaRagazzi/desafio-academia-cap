{
  "nbformat": 4,
  "nbformat_minor": 0,
  "metadata": {
    "colab": {
      "name": "Questão 3.ipynb",
      "provenance": [],
      "authorship_tag": "ABX9TyO8FM6FL8Qh7STti5RAcU0x",
      "include_colab_link": true
    },
    "kernelspec": {
      "name": "python3",
      "display_name": "Python 3"
    },
    "language_info": {
      "name": "python"
    }
  },
  "cells": [
    {
      "cell_type": "markdown",
      "metadata": {
        "id": "view-in-github",
        "colab_type": "text"
      },
      "source": [
        "<a href=\"https://colab.research.google.com/github/JessicaRagazzi/desafio-academia-cap/blob/main/Quest%C3%A3o_3.ipynb\" target=\"_parent\"><img src=\"https://colab.research.google.com/assets/colab-badge.svg\" alt=\"Open In Colab\"/></a>"
      ]
    },
    {
      "cell_type": "code",
      "execution_count": null,
      "metadata": {
        "id": "jYzm-eeXbKj2"
      },
      "outputs": [],
      "source": [
        "#Importa bibliotecas random e string\n",
        "from random import choice\n",
        "import string\n",
        "\n",
        "string.ascii_lowercase #Importa os caracteres: abcdefghijklmnopqrstuvwxyz\n",
        " \n",
        "tamanhoPalavra = int (random.randint(1,10)) #Estabelece um tamanho para a palavra que será gerada\n",
        "\n",
        "caracteres = string.ascii_lowercase #Armazena os caracteres em uma variável\n",
        "#Os caracteres aleatórios são selecionados, dentro da quantidade de caracteres delimitada pela variável \"tamanhoPalavra\"\n",
        "palavra = ''\n",
        "\n",
        "for i in range(tamanhoPalavra): \n",
        "  palavra += choice(caracteres) #Recebe a palavra gerada \n",
        "\n",
        "print ('Palavra gerada: ', palavra) #Informa qual a palavra gerada\n",
        "\n",
        "anagramas = [] #Armazena na variável a lista para os anagramas possíveis \n",
        "\n",
        "#Sequência que analisa cada combinação com os caracteres recebidos e cria uma lista\n",
        "for i in range(len(palavra)):\n",
        "  combinacoes = palavra[i]\n",
        "  for y in range(i, len(palavra)):\n",
        "    if y == i:\n",
        "      combinacoes = combinacoes\n",
        "    else:\n",
        "      combinacoes += palavra[y]\n",
        "    anagramas += [''.join(sorted(combinacoes))]\n",
        "  \n",
        "#Compara as combinações e soma as combinações iguais \n",
        "contAnagramas = 0\n",
        "for i in range(len(anagramas)):\n",
        "  for y in range(i + 1, len(anagramas)):\n",
        "    if anagramas [y] == anagramas[i]:\n",
        "      contAnagramas +=(1)\n",
        "\n",
        "#Armazena o contador de anagramas para imprimir o resultado final\n",
        "totalAnagramas = contAnagramas\n",
        "\n",
        "print('Quantidade de Anagramas: ', totalAnagramas)"
      ]
    }
  ]
}