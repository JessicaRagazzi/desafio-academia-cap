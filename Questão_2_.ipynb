{
  "nbformat": 4,
  "nbformat_minor": 0,
  "metadata": {
    "colab": {
      "name": "Questão 2 .ipynb",
      "provenance": [],
      "authorship_tag": "ABX9TyPsI4MVw8tuYDqJHOtHx9Bv",
      "include_colab_link": true
    },
    "kernelspec": {
      "name": "python3",
      "display_name": "Python 3"
    },
    "language_info": {
      "name": "python"
    }
  },
  "cells": [
    {
      "cell_type": "markdown",
      "metadata": {
        "id": "view-in-github",
        "colab_type": "text"
      },
      "source": [
        "<a href=\"https://colab.research.google.com/github/JessicaRagazzi/desafio-academia-cap/blob/main/Quest%C3%A3o_2_.ipynb\" target=\"_parent\"><img src=\"https://colab.research.google.com/assets/colab-badge.svg\" alt=\"Open In Colab\"/></a>"
      ]
    },
    {
      "cell_type": "code",
      "execution_count": 13,
      "metadata": {
        "id": "A084I4BybCOh",
        "outputId": "5fc07caf-f0bf-4091-b090-9a3f231d378c",
        "colab": {
          "base_uri": "https://localhost:8080/"
        }
      },
      "outputs": [
        {
          "output_type": "stream",
          "name": "stdout",
          "text": [
            "Senha gerada:  ~Dr0\n",
            "Você precisa adicionar mais 2 caracteres\n"
          ]
        }
      ],
      "source": [
        "#Estabelece o mínimo de 6 caracteres \n",
        "valorMin = 6 \n",
        "\n",
        "#Importa bibliotecas random e string\n",
        "import random\n",
        "from random import choice\n",
        "import string\n",
        "\n",
        "string.ascii_letters #Importa os caracteres: abcdefghijklmnopqrstuvwxyzABCDEFGHIJKLMNOPQRSTUVWXYZ\n",
        "string.digits #Importa os caracteres: 0123456789\n",
        "string.punctuation #Importa os caracteres: !@#$%^&*()-+\n",
        "\n",
        "#Seleciona um número aleatório, em um intervalo de 1 - 10. Esse intervalo pode ser alterado. \n",
        "tamanhoSenha = int (random.randint(1,10))\n",
        "\n",
        "#Definir, na variavel caracteres, a combinação entre caracteres maiúsculos, minúsculos e especiais\n",
        "caracteres = string.ascii_letters + string.digits + string.punctuation\n",
        "senha = '' \n",
        "#Os caracteres aleatórios são selecionados, dentro da quantidade de caracteres delimitada pela variável \"tamanhoSenha\"\n",
        "for i in range(tamanhoSenha):\n",
        "  senha += choice(caracteres) #Recebe a senha gerada \n",
        "\n",
        "senhaCerta = int(len(senha))\n",
        "senhaCerta = int(senhaCerta) #Conversão de str para int \n",
        "\n",
        "print ('Senha gerada: ', senha) #Exibe ao usuário a senha gerada \n",
        "\n",
        "if senhaCerta >= valorMin: #Se a senha tiver mais de 6 caracteres\n",
        "  print ('Sua senha é segura!')\n",
        "\n",
        "adicionar = (valorMin - senhaCerta)\n",
        "\n",
        "if adicionar == 1: #Se a senha tiver somente 1 caracter\n",
        "  print ('Você precisa adicionar mais', adicionar, 'caracter')\n",
        "\n",
        "if senhaCerta <= 4: #Se a senha tiver menos de 4 caracteres\n",
        "   print ('Você precisa adicionar mais', adicionar, 'caracteres')"
      ]
    }
  ]
}